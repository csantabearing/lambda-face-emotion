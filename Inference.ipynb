{
 "cells": [
  {
   "cell_type": "code",
   "execution_count": 1,
   "metadata": {},
   "outputs": [],
   "source": [
    "import requests"
   ]
  },
  {
   "cell_type": "code",
   "execution_count": 2,
   "metadata": {},
   "outputs": [],
   "source": [
    "service='pet-bokeh-service'\n",
    "port=8500"
   ]
  },
  {
   "cell_type": "code",
   "execution_count": 3,
   "metadata": {},
   "outputs": [
    {
     "data": {
      "text/plain": [
       "{'model_spec': {'name': 'pet-bokeh', 'signature_name': '', 'version': '1'},\n",
       " 'metadata': {'signature_def': {'signature_def': {'serving_default': {'inputs': {'Input': {'dtype': 'DT_FLOAT',\n",
       "       'tensor_shape': {'dim': [{'size': '-1', 'name': ''},\n",
       "         {'size': '160', 'name': ''},\n",
       "         {'size': '160', 'name': ''},\n",
       "         {'size': '3', 'name': ''}],\n",
       "        'unknown_rank': False},\n",
       "       'name': 'serving_default_Input:0'}},\n",
       "     'outputs': {'Output': {'dtype': 'DT_FLOAT',\n",
       "       'tensor_shape': {'dim': [{'size': '-1', 'name': ''},\n",
       "         {'size': '160', 'name': ''},\n",
       "         {'size': '160', 'name': ''},\n",
       "         {'size': '3', 'name': ''}],\n",
       "        'unknown_rank': False},\n",
       "       'name': 'StatefulPartitionedCall:0'}},\n",
       "     'method_name': 'tensorflow/serving/predict'},\n",
       "    '__saved_model_init_op': {'inputs': {},\n",
       "     'outputs': {'__saved_model_init_op': {'dtype': 'DT_INVALID',\n",
       "       'tensor_shape': {'dim': [], 'unknown_rank': True},\n",
       "       'name': 'NoOp'}},\n",
       "     'method_name': ''}}}}}"
      ]
     },
     "execution_count": 3,
     "metadata": {},
     "output_type": "execute_result"
    }
   ],
   "source": [
    "requests.get(f'http://{service}:{port}/v1/models/pet-bokeh/metadata').json()"
   ]
  },
  {
   "cell_type": "code",
   "execution_count": null,
   "metadata": {},
   "outputs": [],
   "source": []
  }
 ],
 "metadata": {
  "kernelspec": {
   "display_name": "Python 3 (ipykernel)",
   "language": "python",
   "name": "python3"
  },
  "kubeflow_notebook": {
   "autosnapshot": false,
   "deploy_config": {},
   "docker_image": "gcr.io/arrikto/jupyter-kale-py38@sha256:5077b32dcbb88b4f9a77b044df2f7d0cf48a3e24932af412b017fca6dff64aaa",
   "experiment": {
    "id": "",
    "name": ""
   },
   "experiment_name": "",
   "katib_metadata": {
    "algorithm": {
     "algorithmName": "grid"
    },
    "maxFailedTrialCount": 3,
    "maxTrialCount": 12,
    "objective": {
     "objectiveMetricName": "",
     "type": "minimize"
    },
    "parallelTrialCount": 3,
    "parameters": []
   },
   "katib_run": false,
   "pipeline_description": "",
   "pipeline_name": "",
   "snapshot_volumes": false,
   "storage_class_name": "",
   "volume_access_mode": "rwm",
   "volumes": []
  },
  "language_info": {
   "codemirror_mode": {
    "name": "ipython",
    "version": 3
   },
   "file_extension": ".py",
   "mimetype": "text/x-python",
   "name": "python",
   "nbconvert_exporter": "python",
   "pygments_lexer": "ipython3",
   "version": "3.8.0"
  }
 },
 "nbformat": 4,
 "nbformat_minor": 4
}
