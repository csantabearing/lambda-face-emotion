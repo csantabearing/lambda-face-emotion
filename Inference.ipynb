{
 "cells": [
  {
   "cell_type": "code",
   "execution_count": 1,
   "metadata": {},
   "outputs": [
    {
     "name": "stderr",
     "output_type": "stream",
     "text": [
      "/Users/camilosanta/vearing/lib/python3.8/site-packages/tqdm/auto.py:22: TqdmWarning: IProgress not found. Please update jupyter and ipywidgets. See https://ipywidgets.readthedocs.io/en/stable/user_install.html\n",
      "  from .autonotebook import tqdm as notebook_tqdm\n",
      "/Users/camilosanta/vearing/lib/python3.8/site-packages/tritonhttpclient/__init__.py:31: DeprecationWarning: The package `tritonhttpclient` is deprecated and will be removed in a future version. Please use instead `tritonclient.http`\n",
      "  warnings.warn(\n"
     ]
    }
   ],
   "source": [
    "from transformers import AutoTokenizer\n",
    "import tritonhttpclient\n",
    "import numpy as np\n",
    "import cv2"
   ]
  },
  {
   "cell_type": "code",
   "execution_count": 2,
   "metadata": {},
   "outputs": [],
   "source": [
    "url='44.206.242.119:8000'\n",
    "triton_client = tritonhttpclient.InferenceServerClient(url=url, verbose=False)"
   ]
  },
  {
   "cell_type": "code",
   "execution_count": 3,
   "metadata": {},
   "outputs": [
    {
     "data": {
      "text/plain": [
       "((1, 513, 513, 3), (48, 48, 3), (1, 48, 48, 1))"
      ]
     },
     "execution_count": 3,
     "metadata": {},
     "output_type": "execute_result"
    }
   ],
   "source": [
    "img=cv2.imread('/Users/camilosanta/Downloads/baby.jpeg')\n",
    "face=img[50:170,120:240]\n",
    "face=cv2.resize(face,(48,48))\n",
    "gray = cv2.cvtColor(face, cv2.COLOR_BGR2GRAY).astype(np.float32)\n",
    "gray=gray[np.newaxis,:,:,np.newaxis]\n",
    "img=cv2.resize(img,(513,513))\n",
    "img=img[np.newaxis,:,:,:]\n",
    "img.shape,face.shape,gray.shape"
   ]
  },
  {
   "cell_type": "code",
   "execution_count": 4,
   "metadata": {},
   "outputs": [
    {
     "data": {
      "text/plain": [
       "array([[0., 0., 0., 0., 0., 0., 1.]], dtype=float32)"
      ]
     },
     "execution_count": 4,
     "metadata": {},
     "output_type": "execute_result"
    }
   ],
   "source": [
    "input_name='conv2d_8_input'\n",
    "output_name = 'dense_5'\n",
    "model_name='face-emotion'\n",
    "model_version='1'\n",
    "input0 = tritonhttpclient.InferInput(input_name, (1, 48,48,1), 'FP32')\n",
    "input0.set_data_from_numpy(gray, binary_data=False)\n",
    "output = tritonhttpclient.InferRequestedOutput(output_name, binary_data=False)\n",
    "response = triton_client.infer(model_name,model_version=model_version,inputs=[input0],outputs=[output])\n",
    "logits = response.as_numpy(output_name)\n",
    "logits"
   ]
  },
  {
   "cell_type": "code",
   "execution_count": 5,
   "metadata": {},
   "outputs": [
    {
     "data": {
      "text/plain": [
       "(1, 513, 513, 21)"
      ]
     },
     "execution_count": 5,
     "metadata": {},
     "output_type": "execute_result"
    }
   ],
   "source": [
    "input_name='ImageTensor'\n",
    "output_name = 'ResizeBilinear_3'\n",
    "model_name='face-bokeh'\n",
    "model_version='1'\n",
    "input0 = tritonhttpclient.InferInput(input_name, (1,513,513,3), 'UINT8')\n",
    "input0.set_data_from_numpy(img, binary_data=False)\n",
    "output = tritonhttpclient.InferRequestedOutput(output_name, binary_data=False)\n",
    "response = triton_client.infer(model_name,model_version=model_version,inputs=[input0],outputs=[output])\n",
    "segmap = response.as_numpy(output_name)\n",
    "segmap.shape"
   ]
  },
  {
   "cell_type": "code",
   "execution_count": null,
   "metadata": {},
   "outputs": [],
   "source": []
  }
 ],
 "metadata": {
  "kernelspec": {
   "display_name": "vearing",
   "language": "python",
   "name": "vearing"
  },
  "language_info": {
   "codemirror_mode": {
    "name": "ipython",
    "version": 3
   },
   "file_extension": ".py",
   "mimetype": "text/x-python",
   "name": "python",
   "nbconvert_exporter": "python",
   "pygments_lexer": "ipython3",
   "version": "3.8.14"
  }
 },
 "nbformat": 4,
 "nbformat_minor": 4
}
